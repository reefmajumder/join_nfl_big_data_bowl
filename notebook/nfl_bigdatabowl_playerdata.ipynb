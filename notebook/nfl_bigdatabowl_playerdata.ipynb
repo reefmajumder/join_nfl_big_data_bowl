{
  "nbformat": 4,
  "nbformat_minor": 0,
  "metadata": {
    "colab": {
      "name": "nfl_bigdatabowl.ipynb",
      "provenance": [],
      "collapsed_sections": [
        "LHRwN_-MkX2T"
      ]
    },
    "kernelspec": {
      "name": "python3",
      "display_name": "Python 3"
    },
    "language_info": {
      "name": "python"
    }
  },
  "cells": [
    {
      "cell_type": "code",
      "metadata": {
        "id": "DBiuO224bguc"
      },
      "source": [
        "import pandas as pd \n",
        "import numpy as np\n",
        "import seaborn as sns\n",
        "import matplotlib as mpl\n",
        "import matplotlib.pyplot as plt"
      ],
      "execution_count": 69,
      "outputs": []
    },
    {
      "cell_type": "code",
      "metadata": {
        "id": "nS5wRLiwwT27"
      },
      "source": [
        "players=pd.read_csv('/content/players.csv')"
      ],
      "execution_count": 70,
      "outputs": []
    },
    {
      "cell_type": "code",
      "metadata": {
        "colab": {
          "base_uri": "https://localhost:8080/",
          "height": 423
        },
        "id": "6ZXpMk94wqmQ",
        "outputId": "63844ac3-e1b3-410d-9925-b7394261f5c4"
      },
      "source": [
        "players"
      ],
      "execution_count": 71,
      "outputs": [
        {
          "output_type": "execute_result",
          "data": {
            "text/html": [
              "<div>\n",
              "<style scoped>\n",
              "    .dataframe tbody tr th:only-of-type {\n",
              "        vertical-align: middle;\n",
              "    }\n",
              "\n",
              "    .dataframe tbody tr th {\n",
              "        vertical-align: top;\n",
              "    }\n",
              "\n",
              "    .dataframe thead th {\n",
              "        text-align: right;\n",
              "    }\n",
              "</style>\n",
              "<table border=\"1\" class=\"dataframe\">\n",
              "  <thead>\n",
              "    <tr style=\"text-align: right;\">\n",
              "      <th></th>\n",
              "      <th>nflId</th>\n",
              "      <th>height</th>\n",
              "      <th>weight</th>\n",
              "      <th>birthDate</th>\n",
              "      <th>collegeName</th>\n",
              "      <th>Position</th>\n",
              "      <th>displayName</th>\n",
              "    </tr>\n",
              "  </thead>\n",
              "  <tbody>\n",
              "    <tr>\n",
              "      <th>0</th>\n",
              "      <td>42901</td>\n",
              "      <td>6-1</td>\n",
              "      <td>208</td>\n",
              "      <td>1992-07-25</td>\n",
              "      <td>James Madison</td>\n",
              "      <td>SS</td>\n",
              "      <td>Dean Marlowe</td>\n",
              "    </tr>\n",
              "    <tr>\n",
              "      <th>1</th>\n",
              "      <td>43501</td>\n",
              "      <td>6-0</td>\n",
              "      <td>220</td>\n",
              "      <td>1994-08-11</td>\n",
              "      <td>Central Michigan</td>\n",
              "      <td>FS</td>\n",
              "      <td>Kavon Frazier</td>\n",
              "    </tr>\n",
              "    <tr>\n",
              "      <th>2</th>\n",
              "      <td>43534</td>\n",
              "      <td>6-0</td>\n",
              "      <td>205</td>\n",
              "      <td>1993-06-02</td>\n",
              "      <td>Illinois</td>\n",
              "      <td>SS</td>\n",
              "      <td>Clayton Fejedelem</td>\n",
              "    </tr>\n",
              "    <tr>\n",
              "      <th>3</th>\n",
              "      <td>43535</td>\n",
              "      <td>6-1</td>\n",
              "      <td>235</td>\n",
              "      <td>1992-12-22</td>\n",
              "      <td>Temple</td>\n",
              "      <td>MLB</td>\n",
              "      <td>Tyler Matakevich</td>\n",
              "    </tr>\n",
              "    <tr>\n",
              "      <th>4</th>\n",
              "      <td>44174</td>\n",
              "      <td>6-1</td>\n",
              "      <td>236</td>\n",
              "      <td>1993-02-22</td>\n",
              "      <td>Texas Tech</td>\n",
              "      <td>ILB</td>\n",
              "      <td>Sam Eguavoen</td>\n",
              "    </tr>\n",
              "    <tr>\n",
              "      <th>...</th>\n",
              "      <td>...</td>\n",
              "      <td>...</td>\n",
              "      <td>...</td>\n",
              "      <td>...</td>\n",
              "      <td>...</td>\n",
              "      <td>...</td>\n",
              "      <td>...</td>\n",
              "    </tr>\n",
              "    <tr>\n",
              "      <th>2727</th>\n",
              "      <td>33216</td>\n",
              "      <td>6-3</td>\n",
              "      <td>320</td>\n",
              "      <td>06/16/1986</td>\n",
              "      <td>Central Florida</td>\n",
              "      <td>G</td>\n",
              "      <td>Josh Sitton</td>\n",
              "    </tr>\n",
              "    <tr>\n",
              "      <th>2728</th>\n",
              "      <td>33184</td>\n",
              "      <td>6-3</td>\n",
              "      <td>265</td>\n",
              "      <td>05/02/1985</td>\n",
              "      <td>Winston-Salem State</td>\n",
              "      <td>DE</td>\n",
              "      <td>William Hayes</td>\n",
              "    </tr>\n",
              "    <tr>\n",
              "      <th>2729</th>\n",
              "      <td>45651</td>\n",
              "      <td>5-9</td>\n",
              "      <td>198</td>\n",
              "      <td>06/16/1993</td>\n",
              "      <td>Iowa</td>\n",
              "      <td>WR</td>\n",
              "      <td>Riley McCarron</td>\n",
              "    </tr>\n",
              "    <tr>\n",
              "      <th>2730</th>\n",
              "      <td>41284</td>\n",
              "      <td>73</td>\n",
              "      <td>230</td>\n",
              "      <td>1992-10-20</td>\n",
              "      <td>LSU</td>\n",
              "      <td>RB</td>\n",
              "      <td>Jeremy Hill</td>\n",
              "    </tr>\n",
              "    <tr>\n",
              "      <th>2731</th>\n",
              "      <td>42849</td>\n",
              "      <td>5-10</td>\n",
              "      <td>205</td>\n",
              "      <td>12/14/1992</td>\n",
              "      <td>Texas Tech</td>\n",
              "      <td>WR</td>\n",
              "      <td>Bradley Marquez</td>\n",
              "    </tr>\n",
              "  </tbody>\n",
              "</table>\n",
              "<p>2732 rows × 7 columns</p>\n",
              "</div>"
            ],
            "text/plain": [
              "      nflId height  weight  ...          collegeName Position        displayName\n",
              "0     42901    6-1     208  ...        James Madison       SS       Dean Marlowe\n",
              "1     43501    6-0     220  ...     Central Michigan       FS      Kavon Frazier\n",
              "2     43534    6-0     205  ...             Illinois       SS  Clayton Fejedelem\n",
              "3     43535    6-1     235  ...               Temple      MLB   Tyler Matakevich\n",
              "4     44174    6-1     236  ...           Texas Tech      ILB       Sam Eguavoen\n",
              "...     ...    ...     ...  ...                  ...      ...                ...\n",
              "2727  33216    6-3     320  ...      Central Florida        G        Josh Sitton\n",
              "2728  33184    6-3     265  ...  Winston-Salem State       DE      William Hayes\n",
              "2729  45651    5-9     198  ...                 Iowa       WR     Riley McCarron\n",
              "2730  41284     73     230  ...                  LSU       RB        Jeremy Hill\n",
              "2731  42849   5-10     205  ...           Texas Tech       WR    Bradley Marquez\n",
              "\n",
              "[2732 rows x 7 columns]"
            ]
          },
          "metadata": {},
          "execution_count": 71
        }
      ]
    },
    {
      "cell_type": "markdown",
      "metadata": {
        "id": "zvxtDiuf4zU6"
      },
      "source": [
        "Players data contains information about players who participated in the tracking data\n"
      ]
    },
    {
      "cell_type": "code",
      "metadata": {
        "id": "3w718xQpwrH6",
        "colab": {
          "base_uri": "https://localhost:8080/"
        },
        "outputId": "374e186a-60e9-4b15-bbb7-b31fa4f6390f"
      },
      "source": [
        "players.info"
      ],
      "execution_count": 72,
      "outputs": [
        {
          "output_type": "execute_result",
          "data": {
            "text/plain": [
              "<bound method DataFrame.info of       nflId height  weight  ...          collegeName Position        displayName\n",
              "0     42901    6-1     208  ...        James Madison       SS       Dean Marlowe\n",
              "1     43501    6-0     220  ...     Central Michigan       FS      Kavon Frazier\n",
              "2     43534    6-0     205  ...             Illinois       SS  Clayton Fejedelem\n",
              "3     43535    6-1     235  ...               Temple      MLB   Tyler Matakevich\n",
              "4     44174    6-1     236  ...           Texas Tech      ILB       Sam Eguavoen\n",
              "...     ...    ...     ...  ...                  ...      ...                ...\n",
              "2727  33216    6-3     320  ...      Central Florida        G        Josh Sitton\n",
              "2728  33184    6-3     265  ...  Winston-Salem State       DE      William Hayes\n",
              "2729  45651    5-9     198  ...                 Iowa       WR     Riley McCarron\n",
              "2730  41284     73     230  ...                  LSU       RB        Jeremy Hill\n",
              "2731  42849   5-10     205  ...           Texas Tech       WR    Bradley Marquez\n",
              "\n",
              "[2732 rows x 7 columns]>"
            ]
          },
          "metadata": {},
          "execution_count": 72
        }
      ]
    },
    {
      "cell_type": "code",
      "metadata": {
        "colab": {
          "base_uri": "https://localhost:8080/"
        },
        "id": "QbbWbdmv5Gyi",
        "outputId": "8db2d186-8e98-4adf-ee6c-8cad84a2fc27"
      },
      "source": [
        "players.columns"
      ],
      "execution_count": 73,
      "outputs": [
        {
          "output_type": "execute_result",
          "data": {
            "text/plain": [
              "Index(['nflId', 'height', 'weight', 'birthDate', 'collegeName', 'Position',\n",
              "       'displayName'],\n",
              "      dtype='object')"
            ]
          },
          "metadata": {},
          "execution_count": 73
        }
      ]
    },
    {
      "cell_type": "code",
      "metadata": {
        "colab": {
          "base_uri": "https://localhost:8080/"
        },
        "id": "s7d-bHmW5Kb2",
        "outputId": "28dd5149-e9fa-481b-ce40-72c0d928ef6a"
      },
      "source": [
        "players.dtypes"
      ],
      "execution_count": 74,
      "outputs": [
        {
          "output_type": "execute_result",
          "data": {
            "text/plain": [
              "nflId           int64\n",
              "height         object\n",
              "weight          int64\n",
              "birthDate      object\n",
              "collegeName    object\n",
              "Position       object\n",
              "displayName    object\n",
              "dtype: object"
            ]
          },
          "metadata": {},
          "execution_count": 74
        }
      ]
    },
    {
      "cell_type": "code",
      "metadata": {
        "colab": {
          "base_uri": "https://localhost:8080/"
        },
        "id": "D0tuV3FI5Vv2",
        "outputId": "8a52e21c-9c27-451c-cc5e-9b2063936966"
      },
      "source": [
        "players[\"weight\"].min()"
      ],
      "execution_count": 75,
      "outputs": [
        {
          "output_type": "execute_result",
          "data": {
            "text/plain": [
              "153"
            ]
          },
          "metadata": {},
          "execution_count": 75
        }
      ]
    },
    {
      "cell_type": "code",
      "metadata": {
        "colab": {
          "base_uri": "https://localhost:8080/"
        },
        "id": "eN1FIokY-FCT",
        "outputId": "b34d9640-f08c-44f6-e613-1133cbe08cfe"
      },
      "source": [
        "players[\"weight\"].max()"
      ],
      "execution_count": 76,
      "outputs": [
        {
          "output_type": "execute_result",
          "data": {
            "text/plain": [
              "380"
            ]
          },
          "metadata": {},
          "execution_count": 76
        }
      ]
    },
    {
      "cell_type": "code",
      "metadata": {
        "id": "gEg3Z62f8w8u"
      },
      "source": [
        "#https://www.thescore.com/nfl/news/1981136\n",
        "\n",
        "def map_weights(weight):\n",
        "    if 153 < weight < 192:\n",
        "        return 'Bantamweight'\n",
        "    elif 193 < weight < 232:\n",
        "        return 'Featherweight'\n",
        "    elif 233 < weight < 272:\n",
        "      return 'Lightweight'\n",
        "    elif 273 < weight < 312:\n",
        "      return 'Welterweight'\n",
        "    elif 313 < weight < 352:\n",
        "      return 'Middleweight'\n",
        "    elif 353 < weight < 393:\n",
        "      return 'Light heavyweight'\n",
        "    else:\n",
        "      return -1\n",
        "\n",
        "players['weight_map'] = players.apply(lambda col: map_weights(col['weight']), axis=1)"
      ],
      "execution_count": 77,
      "outputs": []
    },
    {
      "cell_type": "code",
      "metadata": {
        "colab": {
          "base_uri": "https://localhost:8080/"
        },
        "id": "2eY-630vEBWo",
        "outputId": "c816f31d-f412-4220-a0ec-74c49cd09e6f"
      },
      "source": [
        "players[\"weight_map\"].unique"
      ],
      "execution_count": 78,
      "outputs": [
        {
          "output_type": "execute_result",
          "data": {
            "text/plain": [
              "<bound method Series.unique of 0       Featherweight\n",
              "1       Featherweight\n",
              "2       Featherweight\n",
              "3         Lightweight\n",
              "4         Lightweight\n",
              "            ...      \n",
              "2727     Middleweight\n",
              "2728      Lightweight\n",
              "2729    Featherweight\n",
              "2730    Featherweight\n",
              "2731    Featherweight\n",
              "Name: weight_map, Length: 2732, dtype: object>"
            ]
          },
          "metadata": {},
          "execution_count": 78
        }
      ]
    },
    {
      "cell_type": "code",
      "metadata": {
        "colab": {
          "base_uri": "https://localhost:8080/",
          "height": 378
        },
        "id": "290gimumQWSw",
        "outputId": "a510e79c-85e8-4e6e-ecf7-3181c272f9c9"
      },
      "source": [
        "pl_w=players.groupby(['weight_map']).size()\n",
        "pl_w.plot(kind='bar')"
      ],
      "execution_count": 79,
      "outputs": [
        {
          "output_type": "execute_result",
          "data": {
            "text/plain": [
              "<matplotlib.axes._subplots.AxesSubplot at 0x7fcc197913d0>"
            ]
          },
          "metadata": {},
          "execution_count": 79
        },
        {
          "output_type": "display_data",
          "data": {
            "image/png": "[encoded data removed]",
            "text/plain": [
              "<Figure size 432x288 with 1 Axes>"
            ]
          },
          "metadata": {
            "needs_background": "light"
          }
        }
      ]
    },
    {
      "cell_type": "code",
      "metadata": {
        "colab": {
          "base_uri": "https://localhost:8080/"
        },
        "id": "CgcqPPv1wW_K",
        "outputId": "b45d9097-167b-4a83-9d78-7c46ac8c43f4"
      },
      "source": [
        "players[\"height\"].dtypes"
      ],
      "execution_count": 80,
      "outputs": [
        {
          "output_type": "execute_result",
          "data": {
            "text/plain": [
              "dtype('O')"
            ]
          },
          "metadata": {},
          "execution_count": 80
        }
      ]
    },
    {
      "cell_type": "markdown",
      "metadata": {
        "id": "0KMtr0kLcUzj"
      },
      "source": [
        "Convert heights to feet"
      ]
    },
    {
      "cell_type": "code",
      "metadata": {
        "id": "8MexhaOnb9L6"
      },
      "source": [
        "players[\"height\"] = players[\"height\"].str.replace(\"-\", \".\")\n"
      ],
      "execution_count": 81,
      "outputs": []
    },
    {
      "cell_type": "code",
      "metadata": {
        "colab": {
          "base_uri": "https://localhost:8080/"
        },
        "id": "R0-kZRdmwxOb",
        "outputId": "cb076fd1-216d-4a41-895d-8adc54bf36a4"
      },
      "source": [
        "players[\"height\"].astype(float)"
      ],
      "execution_count": 82,
      "outputs": [
        {
          "output_type": "execute_result",
          "data": {
            "text/plain": [
              "0        6.1\n",
              "1        6.0\n",
              "2        6.0\n",
              "3        6.1\n",
              "4        6.1\n",
              "        ... \n",
              "2727     6.3\n",
              "2728     6.3\n",
              "2729     5.9\n",
              "2730    73.0\n",
              "2731     5.1\n",
              "Name: height, Length: 2732, dtype: float64"
            ]
          },
          "metadata": {},
          "execution_count": 82
        }
      ]
    },
    {
      "cell_type": "markdown",
      "metadata": {
        "id": "jhqa8W9GUosV"
      },
      "source": [
        "##### Function to write percent at the top of the graph"
      ]
    },
    {
      "cell_type": "code",
      "metadata": {
        "colab": {
          "base_uri": "https://localhost:8080/"
        },
        "id": "HeSukv7AdG04",
        "outputId": "248d6498-766a-4830-9ac6-24c51b967dbb"
      },
      "source": [
        "mask = players[\"height\"].astype(float)\n",
        "players = players[mask<7.5]\n",
        "print(players)"
      ],
      "execution_count": 83,
      "outputs": [
        {
          "output_type": "stream",
          "name": "stdout",
          "text": [
            "      nflId height  weight  ... Position        displayName     weight_map\n",
            "0     42901    6.1     208  ...       SS       Dean Marlowe  Featherweight\n",
            "1     43501    6.0     220  ...       FS      Kavon Frazier  Featherweight\n",
            "2     43534    6.0     205  ...       SS  Clayton Fejedelem  Featherweight\n",
            "3     43535    6.1     235  ...      MLB   Tyler Matakevich    Lightweight\n",
            "4     44174    6.1     236  ...      ILB       Sam Eguavoen    Lightweight\n",
            "...     ...    ...     ...  ...      ...                ...            ...\n",
            "2726  43511    6.2     242  ...      OLB      Aaron Wallace    Lightweight\n",
            "2727  33216    6.3     320  ...        G        Josh Sitton   Middleweight\n",
            "2728  33184    6.3     265  ...       DE      William Hayes    Lightweight\n",
            "2729  45651    5.9     198  ...       WR     Riley McCarron  Featherweight\n",
            "2731  42849   5.10     205  ...       WR    Bradley Marquez  Featherweight\n",
            "\n",
            "[2579 rows x 8 columns]\n"
          ]
        }
      ]
    },
    {
      "cell_type": "code",
      "metadata": {
        "colab": {
          "base_uri": "https://localhost:8080/",
          "height": 692
        },
        "id": "NjAMQjbAwzgO",
        "outputId": "6f2cdf80-c7d2-4947-87bd-3493f4ccb34f"
      },
      "source": [
        "mpl.rc(\"font\", size =10)\n",
        "plt.figure(figsize=(10,10)) # set the size of the figure\n",
        "\n",
        "ax = sns.distplot(players[\"height\"], bins = 10)\n",
        "ax.set_title(\"Height Distribution\")"
      ],
      "execution_count": 84,
      "outputs": [
        {
          "output_type": "stream",
          "name": "stderr",
          "text": [
            "/usr/local/lib/python3.7/dist-packages/seaborn/distributions.py:2619: FutureWarning: `distplot` is a deprecated function and will be removed in a future version. Please adapt your code to use either `displot` (a figure-level function with similar flexibility) or `histplot` (an axes-level function for histograms).\n",
            "  warnings.warn(msg, FutureWarning)\n"
          ]
        },
        {
          "output_type": "execute_result",
          "data": {
            "text/plain": [
              "Text(0.5, 1.0, 'Height Distribution')"
            ]
          },
          "metadata": {},
          "execution_count": 84
        },
        {
          "output_type": "display_data",
          "data": {
            "image/png": "[encoded data removed]",
            "text/plain": [
              "<Figure size 720x720 with 1 Axes>"
            ]
          },
          "metadata": {
            "needs_background": "light"
          }
        }
      ]
    },
    {
      "cell_type": "code",
      "metadata": {
        "colab": {
          "base_uri": "https://localhost:8080/",
          "height": 692
        },
        "id": "ckxFn3JGbyV1",
        "outputId": "530dd958-c51e-4bd2-b13e-e7c897bce498"
      },
      "source": [
        "mpl.rc(\"font\", size =10)\n",
        "plt.figure(figsize=(10,10)) # set the size of the figure\n",
        "\n",
        "ax = sns.distplot(players[\"weight\"], bins = 10)\n",
        "ax.set_title(\"Weight Distribution\")"
      ],
      "execution_count": 85,
      "outputs": [
        {
          "output_type": "stream",
          "name": "stderr",
          "text": [
            "/usr/local/lib/python3.7/dist-packages/seaborn/distributions.py:2619: FutureWarning: `distplot` is a deprecated function and will be removed in a future version. Please adapt your code to use either `displot` (a figure-level function with similar flexibility) or `histplot` (an axes-level function for histograms).\n",
            "  warnings.warn(msg, FutureWarning)\n"
          ]
        },
        {
          "output_type": "execute_result",
          "data": {
            "text/plain": [
              "Text(0.5, 1.0, 'Weight Distribution')"
            ]
          },
          "metadata": {},
          "execution_count": 85
        },
        {
          "output_type": "display_data",
          "data": {
            "image/png": "[encoded data removed]",
            "text/plain": [
              "<Figure size 720x720 with 1 Axes>"
            ]
          },
          "metadata": {
            "needs_background": "light"
          }
        }
      ]
    },
    {
      "cell_type": "code",
      "metadata": {
        "colab": {
          "base_uri": "https://localhost:8080/"
        },
        "id": "VErBP0KfjEA0",
        "outputId": "3c1d0281-6c01-4c97-f4ed-11f1a589d0cd"
      },
      "source": [
        "top_player_college = players[\"collegeName\"].value_counts()[:20].reset_index()\n",
        "print(top_player_college)"
      ],
      "execution_count": 89,
      "outputs": [
        {
          "output_type": "stream",
          "name": "stdout",
          "text": [
            "              index  collegeName\n",
            "0           Alabama           65\n",
            "1           Florida           55\n",
            "2        Ohio State           54\n",
            "3   Louisiana State           49\n",
            "4           Georgia           45\n",
            "5          Michigan           44\n",
            "6        Notre Dame           43\n",
            "7        Penn State           43\n",
            "8           Clemson           41\n",
            "9             Miami           40\n",
            "10    Florida State           39\n",
            "11         Stanford           37\n",
            "12           Auburn           37\n",
            "13       Washington           36\n",
            "14             UCLA           36\n",
            "15             Utah           35\n",
            "16         Oklahoma           35\n",
            "17        Wisconsin           34\n",
            "18            Texas           33\n",
            "19        Tennessee           33\n"
          ]
        }
      ]
    },
    {
      "cell_type": "code",
      "metadata": {
        "id": "XLHQqhPdjhyz"
      },
      "source": [
        "top_player_college.columns = [\"collegeName\", \"numberofPlayers\"]"
      ],
      "execution_count": 90,
      "outputs": []
    },
    {
      "cell_type": "code",
      "metadata": {
        "colab": {
          "base_uri": "https://localhost:8080/",
          "height": 638
        },
        "id": "BhD9Fo4njt7O",
        "outputId": "0393290b-1b7b-4cb2-a9be-726437d9ab0e"
      },
      "source": [
        "mpl.rc(\"font\", size =10)\n",
        "plt.figure(figsize=(10,10)) # set the size of the figure\n",
        "\n",
        "ax = sns.barplot(x = \"numberofPlayers\", y = \"collegeName\", data = top_player_college)\n",
        "ax.set_title(\"Distribution of top players across the best colleges\")"
      ],
      "execution_count": 91,
      "outputs": [
        {
          "output_type": "execute_result",
          "data": {
            "text/plain": [
              "Text(0.5, 1.0, 'Distribution of top players across the best colleges')"
            ]
          },
          "metadata": {},
          "execution_count": 91
        },
        {
          "output_type": "display_data",
          "data": {
            "image/png": "[encoded data removed]",
            "text/plain": [
              "<Figure size 720x720 with 1 Axes>"
            ]
          },
          "metadata": {
            "needs_background": "light"
          }
        }
      ]
    },
    {
      "cell_type": "markdown",
      "metadata": {
        "id": "LHRwN_-MkX2T"
      },
      "source": [
        "## **Most top players come from Alabama, Florida and Ohio State**"
      ]
    }
  ]
}